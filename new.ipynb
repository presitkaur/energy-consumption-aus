{
 "metadata": {
  "language_info": {
   "codemirror_mode": {
    "name": "ipython",
    "version": 3
   },
   "file_extension": ".py",
   "mimetype": "text/x-python",
   "name": "python",
   "nbconvert_exporter": "python",
   "pygments_lexer": "ipython3",
   "version": "3.8.5-final"
  },
  "orig_nbformat": 2,
  "kernelspec": {
   "name": "python385jvsc74a57bd025dd71d175dacbdc7bc6f0737688b24d317e1ba140395f48d297e2109389b449",
   "display_name": "Python 3.8.5 64-bit (conda)"
  }
 },
 "nbformat": 4,
 "nbformat_minor": 2,
 "cells": [
  {
   "cell_type": "code",
   "execution_count": null,
   "metadata": {},
   "outputs": [],
   "source": []
  },
  {
   "cell_type": "code",
   "execution_count": 1,
   "metadata": {},
   "outputs": [
    {
     "output_type": "stream",
     "name": "stdout",
     "text": [
      "Collecting pytrends\n  Downloading pytrends-4.7.3-py3-none-any.whl (14 kB)\nRequirement already satisfied: lxml in c:\\users\\aroos\\anaconda3\\lib\\site-packages (from pytrends) (4.6.1)\nRequirement already satisfied: requests in c:\\users\\aroos\\anaconda3\\lib\\site-packages (from pytrends) (2.24.0)\nRequirement already satisfied: pandas>=0.25 in c:\\users\\aroos\\anaconda3\\lib\\site-packages (from pytrends) (1.1.3)\nRequirement already satisfied: chardet<4,>=3.0.2 in c:\\users\\aroos\\anaconda3\\lib\\site-packages (from requests->pytrends) (3.0.4)\nRequirement already satisfied: certifi>=2017.4.17 in c:\\users\\aroos\\anaconda3\\lib\\site-packages (from requests->pytrends) (2020.6.20)\nRequirement already satisfied: idna<3,>=2.5 in c:\\users\\aroos\\anaconda3\\lib\\site-packages (from requests->pytrends) (2.10)\nRequirement already satisfied: urllib3!=1.25.0,!=1.25.1,<1.26,>=1.21.1 in c:\\users\\aroos\\anaconda3\\lib\\site-packages (from requests->pytrends) (1.25.11)\nRequirement already satisfied: numpy>=1.15.4 in c:\\users\\aroos\\anaconda3\\lib\\site-packages (from pandas>=0.25->pytrends) (1.19.2)\nRequirement already satisfied: pytz>=2017.2 in c:\\users\\aroos\\anaconda3\\lib\\site-packages (from pandas>=0.25->pytrends) (2020.1)\nRequirement already satisfied: python-dateutil>=2.7.3 in c:\\users\\aroos\\anaconda3\\lib\\site-packages (from pandas>=0.25->pytrends) (2.8.1)\nRequirement already satisfied: six>=1.5 in c:\\users\\aroos\\anaconda3\\lib\\site-packages (from python-dateutil>=2.7.3->pandas>=0.25->pytrends) (1.15.0)\nInstalling collected packages: pytrends\nSuccessfully installed pytrends-4.7.3\nNote: you may need to restart the kernel to use updated packages.\n"
     ]
    }
   ],
   "source": [
    "pip install pytrends\n"
   ]
  },
  {
   "cell_type": "code",
   "execution_count": null,
   "metadata": {},
   "outputs": [],
   "source": []
  }
 ]
}